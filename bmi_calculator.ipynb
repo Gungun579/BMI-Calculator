{
  "nbformat": 4,
  "nbformat_minor": 0,
  "metadata": {
    "colab": {
      "provenance": [],
      "authorship_tag": "ABX9TyOASKl+B8CVMDrrlWBr34rP",
      "include_colab_link": true
    },
    "kernelspec": {
      "name": "python3",
      "display_name": "Python 3"
    },
    "language_info": {
      "name": "python"
    }
  },
  "cells": [
    {
      "cell_type": "markdown",
      "metadata": {
        "id": "view-in-github",
        "colab_type": "text"
      },
      "source": [
        "<a href=\"https://colab.research.google.com/github/Gungun579/BMI-Calculator/blob/main/bmi_calculator.ipynb\" target=\"_parent\"><img src=\"https://colab.research.google.com/assets/colab-badge.svg\" alt=\"Open In Colab\"/></a>"
      ]
    },
    {
      "cell_type": "code",
      "execution_count": null,
      "metadata": {
        "id": "JxI6I9jipFPt"
      },
      "outputs": [],
      "source": [
        "\n",
        "# 🧮 BMI Calculator in Python (Google Colab)\n",
        "\n",
        "# Function to calculate BMI\n",
        "def calculate_bmi(weight, height):\n",
        "    bmi = weight / (height ** 2)\n",
        "    return bmi\n",
        "\n",
        "# Function to determine BMI category\n",
        "def get_bmi_category(bmi):\n",
        "    if bmi < 18.5:\n",
        "        return \"Underweight\"\n",
        "    elif 18.5 <= bmi < 24.9:\n",
        "        return \"Normal weight\"\n",
        "    elif 25 <= bmi < 29.9:\n",
        "        return \"Overweight\"\n",
        "    else:\n",
        "        return \"Obese\"\n",
        "\n",
        "# Main Program\n",
        "print(\"💪 Welcome to the BMI Calculator 💻\")\n",
        "\n",
        "try:\n",
        "    # Get user input\n",
        "    weight = float(input(\"Enter your weight in kilograms (kg): \"))\n",
        "    height = float(input(\"Enter your height in meters (m): \"))\n",
        "\n",
        "    if weight <= 0 or height <= 0:\n",
        "        print(\"❌ Please enter positive values.\")\n",
        "    else:\n",
        "        # Calculate BMI\n",
        "        bmi = calculate_bmi(weight, height)\n",
        "        category = get_bmi_category(bmi)\n",
        "\n",
        "        # Display result\n",
        "        print(f\"\\n📊 Your BMI is: {bmi:.2f}\")\n",
        "        print(f\"🧾 You are classified as: {category}\")\n",
        "\n",
        "except ValueError:\n",
        "    print(\"❗ Invalid input. Please enter numeric values.\")"
      ]
    }
  ]
}